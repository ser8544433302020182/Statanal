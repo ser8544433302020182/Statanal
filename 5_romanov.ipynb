{
  "nbformat": 4,
  "nbformat_minor": 0,
  "metadata": {
    "colab": {
      "name": "5_romanov.ipynb",
      "provenance": []
    },
    "kernelspec": {
      "name": "ir",
      "display_name": "R"
    },
    "language_info": {
      "name": "R"
    }
  },
  "cells": [
    {
      "cell_type": "code",
      "metadata": {
        "id": "YNUkmmruPyka"
      },
      "source": [
        ""
      ],
      "execution_count": null,
      "outputs": []
    },
    {
      "cell_type": "markdown",
      "metadata": {
        "id": "_soBL5fKceI5"
      },
      "source": [
        "# Практическая работа №5: Элементы регрессионного анализа. Выборочные прямые среднеквадратической регрессии. Корреляционное отношение\n",
        "\n",
        "Выполнил студент гр. 9372 Романов Максим, вариант 18."
      ]
    },
    {
      "cell_type": "markdown",
      "metadata": {
        "id": "j9_V1UrpceJC"
      },
      "source": [
        "## Цель работы\n",
        "Ознакомление с основными положениями метода наименьших квадратов\n",
        "(МНК), со статистическими свойствами МНК оценок, с понятием функции регрессии и роли МНК в регрессионном анализе, с корреляционным\n",
        "отношением, как мерой тесноты произвольной (в том числе и линейной)\n",
        "корреляционной связи.\n"
      ]
    },
    {
      "cell_type": "markdown",
      "metadata": {
        "id": "-i3Sh55OceJE"
      },
      "source": [
        "## Основные теоретические положения\n",
        "Основные теоретические положения"
      ]
    },
    {
      "cell_type": "markdown",
      "metadata": {
        "id": "cvhWLWkuceJF"
      },
      "source": [
        "## Постановка задачи\n",
        "Для заданной двумерной выборки (𝑋, 𝑌 ) построить уравнения выборочных прямых среднеквадратической регрессии. Полученные линейные\n",
        "функции регрессии отобразить графически. Найти выборочное корреляционное отношение. Полученные результаты содержательно проинтерпретировать.\n"
      ]
    },
    {
      "cell_type": "markdown",
      "metadata": {
        "id": "wbRnT2luceJG"
      },
      "source": [
        "## Порядок выполнения работы\n",
        "1. Отобразить двумерную выборку на графике.\n",
        "2.  Для заданной выборки построить уравнения средней квадратичной\n",
        "регрессии 𝑥 на 𝑦 и 𝑦 на 𝑥 соответственно. Построить полученные\n",
        "прямые на множестве выборки. Объяснить результаты.\n",
        "3.  Составить корреляционную таблицу для нахождения выборочного корреляционного отношения. Убедиться, что неравенства $𝜂_{𝑥𝑦} \\geq |𝑟_{𝑥𝑦}|$ и $𝜂_{𝑦𝑥} \\geq |𝑟_{𝑥𝑦}|$ выполняются.\n",
        "4. Для заданной выборки построить корреляционную кривую параболического вида $𝑦 = 𝑎𝑥^2 + 𝑏𝑥 + 𝑐$. Сделать выводы.\n",
        "5. Для заданной выборки построить нелинейные корреляционные кривые c помощью МНК в зависимости от номера варианта:\n",
        "  1. степенная функция – $𝑦 = 𝑎𝑥^𝑏$;\n",
        "  2. показательная функция – $𝑦 = 𝑎*exp(𝑏𝑥)$;\n",
        "  3. дробно-линейная функция – $𝑦 =1/(𝑎𝑥 + 𝑏)$;\n",
        "  4. логарифмическая функция – $𝑦 = 𝑎 ln 𝑥 + 𝑏$;\n",
        "  5. обратно пропорциональная функция – $𝑦 = 𝑎/𝑥 + 𝑏$;\n",
        "  6. дробно-рациональная функция – $𝑦 = 𝑥/(𝑎𝑥 + 𝑏)$\n",
        ".\n",
        "6. Вычислить следующие показатели качества регрессии для каждой\n",
        "кривой и сделать выводы:\n",
        "* теоретический коэффициент детерминации $𝑅^2$;\n",
        "* средняя квадратическая ошибка $𝑆_𝜀$;\n",
        "* средняя ошибка аппроксимации (приближения) $𝐴$."
      ]
    },
    {
      "cell_type": "markdown",
      "metadata": {
        "id": "3fd3C2kDceJH"
      },
      "source": [
        "## Выполнение работы"
      ]
    },
    {
      "cell_type": "markdown",
      "metadata": {
        "id": "VCGdyAgI18_C"
      },
      "source": [
        "Подготовительная часть"
      ]
    },
    {
      "cell_type": "code",
      "metadata": {
        "id": "EGjW5FeVSx7-"
      },
      "source": [
        "#Загрузка выборки\n",
        "sample <- read.csv('./sample_data/Statanal_Romanov.csv', sep = \";\")\n",
        "birth_stats <- sample$birth\n",
        "death_stats <- sample$death\n",
        "sample_cardinality <- length(birth_stats)\n",
        "\n",
        "# 1. Найдём всё необходимое для выборки(см. предыдущие работ)\n",
        "##Ранжированный ряд\n",
        "sorted_sample <- sort(birth_stats)\n",
        "\n",
        "##Дискретный стат. ряд\n",
        "descrete_series <- data.frame(\n",
        "  intervals = unique(sorted_sample),\n",
        "  abs_freqs = as.vector(table(birth_stats))\n",
        ")\n",
        "descrete_series$rel_freqs = as.vector(prop.table(descrete_series$abs))\n",
        "\n",
        "##По правилу Стёрджеса\n",
        "number_of_intervals <- 1 + floor(log2(length(birth_stats)))\n",
        "\n",
        "##Минимальное и максимальное значения выборки\n",
        "x_min <- min(birth_stats)\n",
        "x_max <- max(birth_stats)\n",
        "\n",
        "##Размах\n",
        "range <- x_max - x_min\n",
        "\n",
        "##Шаг\n",
        "step <- range / number_of_intervals\n",
        "##Итоговый шаг интервального ряда - округлённый шаг из предыдущей строки\n",
        "interval_step <- ceiling(step)\n",
        "\n",
        "##Перебор\n",
        "overstep <- number_of_intervals * (interval_step - step)\n",
        "\n",
        "x0 <- x_min - overstep\n",
        "\n",
        "breaks <- 1:(number_of_intervals + 1)\n",
        "for (num in breaks){\n",
        "  if (num == 1){\n",
        "    breaks[num] <- x0\n",
        "  }\n",
        "  else breaks[num] <- breaks[num - 1] + interval_step\n",
        "}\n",
        "\n",
        "\n",
        "intervals <- list()\n",
        "for (i in 1:(length(breaks) - 1)){\n",
        "  intervals[[i]] <- c(breaks[i], breaks[i+1])\n",
        "}\n",
        "\n",
        "##Интервальный ряд(веса)\n",
        "interval_absolute_frequencies <- table(cut(birth_stats, breaks = breaks))\n",
        "##Интервальный ряд(частости)\n",
        "interval_relative_frequencies <- prop.table(interval_absolute_frequencies)\n",
        "##Интервальный стат. ряд\n",
        "birth_interval_series <- data.frame(\n",
        "  intervals = I(intervals),\n",
        "  abs_freqs = as.vector(interval_absolute_frequencies),\n",
        "  rel_freqs = as.vector(interval_relative_frequencies)\n",
        ")\n",
        "\n",
        "##Накопленные частоты интервального рядa\n",
        "accumulated_interval_rel_freqs <- c()\n",
        "for (i in 1:length(birth_interval_series$rel_freqs)){\n",
        "  accumulated_interval_rel_freqs[i] <- 0\n",
        "  for (j in 1:i){\n",
        "    accumulated_interval_rel_freqs[i] <- accumulated_interval_rel_freqs[i] + birth_interval_series$rel_freqs[j]\n",
        "  }\n",
        "}\n",
        "\n",
        "##Центры интервалов\n",
        "birth_interval_centers <- c()\n",
        "for (i in (1:length(breaks) - 1)){\n",
        "  birth_interval_centers[i] <- (breaks[i] + breaks[i+1]) / 2\n",
        "}\n",
        "\n",
        "sorted_death_stats <- sort(death_stats)\n",
        "\n",
        "##Дискретный стат. ряд\n",
        "descrete_death_series <- data.frame(\n",
        "  intervals = unique(sorted_death_stats),\n",
        "  abs_freqs = as.vector(table(death_stats))\n",
        ")\n",
        "descrete_death_series$rel_freqs = as.vector(prop.table(descrete_death_series$abs))\n",
        "\n",
        "##По правилу Стёрджеса\n",
        "number_of_intervals <- 1 + floor(log2(length(death_stats)))\n",
        "\n",
        "##Минимальное и максимальное значения выборки\n",
        "min_death <- min(death_stats)\n",
        "max_death <- max(death_stats)\n",
        "\n",
        "##Размах\n",
        "range_of_death <- max_death - min_death\n",
        "\n",
        "##Шаг\n",
        "step_for_death <- range_of_death / number_of_intervals\n",
        "##Итоговый шаг интервального ряда - округлённый шаг из предыдущей строки\n",
        "interval_step_for_death <- ceiling(step_for_death)\n",
        "\n",
        "##Перебор\n",
        "overstep_for_death <- number_of_intervals * (interval_step_for_death - step_for_death)\n",
        "\n",
        "x0 <- min_death - overstep_for_death\n",
        "\n",
        "\n",
        "death_breaks <- 1:(number_of_intervals + 1)\n",
        "for (num in death_breaks){\n",
        "  if (num == 1){\n",
        "    death_breaks[num] <- x0\n",
        "  }\n",
        "  else death_breaks[num] <- death_breaks[num - 1] + interval_step_for_death\n",
        "}\n",
        "\n",
        "\n",
        "death_intervals <- list()\n",
        "for (i in 1:(length(death_breaks) - 1)){\n",
        "  death_intervals[[i]] <- c(death_breaks[i], death_breaks[i+1])\n",
        "}\n",
        "\n",
        "##Интервальный ряд(веса)\n",
        "death_interval_absolute_frequencies <- table(cut(death_stats, breaks = death_breaks))\n",
        "##Интервальный ряд(частости)\n",
        "death_interval_relative_frequencies <- prop.table(death_interval_absolute_frequencies)\n",
        "##Интервальный стат. ряд\n",
        "death_interval_series <- data.frame(\n",
        "  intervals = I(death_intervals),\n",
        "  abs_freqs = as.vector(death_interval_absolute_frequencies),\n",
        "  rel_freqs = as.vector(death_interval_relative_frequencies)\n",
        ")\n",
        "\n",
        "##Центры интервалов\n",
        "death_interval_centers <- c()\n",
        "for (i in (1:length(death_breaks) - 1)){\n",
        "  death_interval_centers[i] <- (death_breaks[i] + death_breaks[i+1]) / 2\n",
        "}\n",
        "\n",
        "mean_of_death_interval_series <- sum(death_interval_centers * death_interval_series$rel_freqs) \n",
        "mean_of_birth_interval_series <- sum(birth_interval_centers * birth_interval_series$rel_freqs)\n",
        "\n",
        "death_dispersion <- sum((death_interval_centers - mean_of_death_interval_series)^ 2 * death_interval_series$rel_freqs)\n",
        "birth_dispersion <- sum((birth_interval_centers - mean_of_birth_interval_series)^ 2 * birth_interval_series$rel_freqs)\n",
        "\n",
        "death_std <- sqrt(death_dispersion)\n",
        "birth_std <- sqrt(birth_dispersion)\n",
        "\n",
        "# 2. Построим двумерный интервальный вариационный ряд\n",
        "two_dimensional_interval_series <- data.frame(\n",
        "  def_stats = birth_interval_series$intervals,\n",
        "  def_stats_abs_freqs = birth_interval_series$abs_freqs,\n",
        "  death_stats = death_interval_series$intervals,\n",
        "  death_stats_abs_freqs = death_interval_series$abs_freqs\n",
        ")\n",
        "\n",
        "\n",
        "\n"
      ],
      "execution_count": 3,
      "outputs": []
    },
    {
      "cell_type": "markdown",
      "metadata": {
        "id": "m9B8mrInUi_9"
      },
      "source": [
        "### 1. Отобразим двумерную выборку на графике"
      ]
    },
    {
      "cell_type": "code",
      "metadata": {
        "colab": {
          "base_uri": "https://localhost:8080/",
          "height": 437
        },
        "id": "rRPbswaTUkvb",
        "outputId": "4f17ecc3-5e96-401d-ae0c-6d7d57b72815"
      },
      "source": [
        "x_plot_values <- birth_stats\n",
        "y_plot_values <- death_stats\n",
        "\n",
        "plot(x_plot_values, y_plot_values, xlab = \"birth\", ylab= \"death\")"
      ],
      "execution_count": 4,
      "outputs": [
        {
          "output_type": "display_data",
          "data": {
            "image/png": "[encoded data removed]",
            "text/plain": [
              "plot without title"
            ]
          },
          "metadata": {
            "image/png": {
              "width": 420,
              "height": 420
            }
          }
        }
      ]
    },
    {
      "cell_type": "markdown",
      "metadata": {
        "id": "FLZufvS4VIln"
      },
      "source": [
        "###2. Для заданной выборки построим уравнения средней квадратичной регрессии 𝑥 на 𝑦 и 𝑦 на 𝑥 соответственно."
      ]
    },
    {
      "cell_type": "markdown",
      "metadata": {
        "id": "OzGb1LAkDyuQ"
      },
      "source": [
        "Для поиска коэффициента корреляции рассчитаем коэффициент ковариации"
      ]
    },
    {
      "cell_type": "code",
      "metadata": {
        "id": "YbJHiEDlVHiY",
        "colab": {
          "base_uri": "https://localhost:8080/",
          "height": 34
        },
        "outputId": "8ea27085-9913-4f39-f225-f5f2c2a0e205"
      },
      "source": [
        "X <- birth_stats\n",
        "Y <- death_stats\n",
        "n <- sample_cardinality\n",
        "x_mean <- mean_of_birth_interval_series\n",
        "y_mean <- mean_of_death_interval_series\n",
        "\n",
        "cov <- 0\n",
        "for (i in 1:sample_cardinality){\n",
        "  cov = cov + (X[i] - x_mean) * (Y[i] - y_mean)\n",
        "}\n",
        "cov = cov / n\n",
        "sprintf(\"Коэффициент ковариции = %f \", r)"
      ],
      "execution_count": 9,
      "outputs": [
        {
          "output_type": "display_data",
          "data": {
            "text/plain": [
              "[1] \"Коэффициент ковариции = 1.816015 \""
            ],
            "text/latex": "'Коэффициент ковариции = 1.816015 '",
            "text/markdown": "'Коэффициент ковариции = 1.816015 '",
            "text/html": [
              "'Коэффициент ковариции = 1.816015 '"
            ]
          },
          "metadata": {}
        }
      ]
    },
    {
      "cell_type": "markdown",
      "metadata": {
        "id": "XipCjU6FGu2p"
      },
      "source": [
        "Найдём коэффициент корреляции"
      ]
    },
    {
      "cell_type": "code",
      "metadata": {
        "id": "A1rJzpOQHBSf",
        "colab": {
          "base_uri": "https://localhost:8080/",
          "height": 34
        },
        "outputId": "6bfe7884-00e5-4c7a-c57b-8c33470362f8"
      },
      "source": [
        "r <- cov  / (death_std * birth_std)\n",
        "sprintf(\"Коэффициент корреляции = %f \", r)"
      ],
      "execution_count": 8,
      "outputs": [
        {
          "output_type": "display_data",
          "data": {
            "text/plain": [
              "[1] \"Коэффициент корреляции = 1.816015 \""
            ],
            "text/latex": "'Коэффициент корреляции = 1.816015 '",
            "text/markdown": "'Коэффициент корреляции = 1.816015 '",
            "text/html": [
              "'Коэффициент корреляции = 1.816015 '"
            ]
          },
          "metadata": {}
        }
      ]
    },
    {
      "cell_type": "markdown",
      "metadata": {
        "id": "O5m8Ve_cNqoL"
      },
      "source": [
        "Уравнение линейной регрессии $Y$ на $X$"
      ]
    },
    {
      "cell_type": "code",
      "metadata": {
        "id": "k9jEf5LXNz1F",
        "colab": {
          "base_uri": "https://localhost:8080/",
          "height": 34
        },
        "outputId": "eb79e1ca-da77-4291-df1a-36885e292a36"
      },
      "source": [
        "k_yx <- r * y_std / x_std\n",
        "b_yx <- y_mean - k_yx * x_mean\n",
        "sprintf(\"y_x = %fx + %f\", k_yx, b_yx)"
      ],
      "execution_count": 14,
      "outputs": [
        {
          "output_type": "display_data",
          "data": {
            "text/plain": [
              "[1] \"y_x = 1.157414x + -236.623597\""
            ],
            "text/latex": "'y\\_x = 1.157414x + -236.623597'",
            "text/markdown": "'y_x = 1.157414x + -236.623597'",
            "text/html": [
              "'y_x = 1.157414x + -236.623597'"
            ]
          },
          "metadata": {}
        }
      ]
    },
    {
      "cell_type": "markdown",
      "metadata": {
        "id": "xtHI_frsWhJH"
      },
      "source": [
        "Это означает, что с увеличением параметра $x$ на 1 единицу параметр $y$ увеличивается в среднем на 0.0381"
      ]
    },
    {
      "cell_type": "markdown",
      "metadata": {
        "id": "L4cyhu4wQ_Lq"
      },
      "source": [
        "Уравнение линейной регрессии $X$ на $Y$\n"
      ]
    },
    {
      "cell_type": "code",
      "metadata": {
        "id": "pSbON1CvREGA",
        "colab": {
          "base_uri": "https://localhost:8080/",
          "height": 454
        },
        "outputId": "d121b448-51f6-46bd-bb0b-fe0581cc9379"
      },
      "source": [
        "k_xy <- r * x_std / y_std\n",
        "b_xy <- x_mean - k_xy * y_mean\n",
        "sprintf(\"x_y = %fy + %f\", k_xy, b_xy)\n",
        "\n",
        "plot(x_plot_values, y_plot_values, xlab = \"birth\", ylab= \"death\")\n",
        "lines(x_plot_values, k_yx * x_plot_values + b_yx, col=\"red\")\n",
        "lines(k_xy * y_plot_values + b_xy, y_plot_values, col=\"green\")"
      ],
      "execution_count": 15,
      "outputs": [
        {
          "output_type": "display_data",
          "data": {
            "text/plain": [
              "[1] \"x_y = 2.849378y + -3619.695512\""
            ],
            "text/latex": "'x\\_y = 2.849378y + -3619.695512'",
            "text/markdown": "'x_y = 2.849378y + -3619.695512'",
            "text/html": [
              "'x_y = 2.849378y + -3619.695512'"
            ]
          },
          "metadata": {}
        },
        {
          "output_type": "display_data",
          "data": {
            "image/png": "[encoded data removed]",
            "text/plain": [
              "plot without title"
            ]
          },
          "metadata": {
            "image/png": {
              "width": 420,
              "height": 420
            }
          }
        }
      ]
    },
    {
      "cell_type": "markdown",
      "metadata": {
        "id": "LYfOPQ_tZFiW"
      },
      "source": [
        "Это означает, что с увеличением параметра $y$ на 1 единицу параметр $x$ увеличивается в среднем на 0.0385"
      ]
    },
    {
      "cell_type": "markdown",
      "metadata": {
        "id": "XXGAwhULbrJm"
      },
      "source": [
        "###3. Составим корреляционную таблицу для нахождения выборочного корреляционного отношения."
      ]
    },
    {
      "cell_type": "code",
      "metadata": {
        "id": "V8ryerE8ZDZI",
        "colab": {
          "base_uri": "https://localhost:8080/",
          "height": 286
        },
        "outputId": "c0c50cc8-79d8-47b7-a9a6-45ef5887f2b3"
      },
      "source": [
        "# 3. Построим корреляционную таблицу\n",
        "##Найдём пары элементов (xi, yj). Возьмём центры соотв. интервалов\n",
        "x_values <- birth_interval_series$intervals\n",
        "y_values <- death_interval_series$intervals\n",
        "\n",
        "x_centers <- round(birth_interval_centers)\n",
        "y_centers <- round(death_interval_centers)\n",
        "\n",
        "x_std <- birth_std\n",
        "y_std <- death_std\n",
        "\n",
        "x_dispersion <- birth_dispersion\n",
        "y_dispersion <- death_dispersion\n",
        "\n",
        "intergroup_mean <- sum(X * Y) / sample_cardinality\n",
        "\n",
        "correlation_table <- matrix(0, nrow = number_of_intervals, ncol = number_of_intervals)\n",
        "for (i in 1:number_of_intervals){\n",
        "  for (j in 1:number_of_intervals){\n",
        "    for (k in 1:sample_cardinality){\n",
        "      if ((birth_stats[k] > x_values[[i]][1] && birth_stats[k] <= x_values[[i]][2]) && (death_stats[k] > y_values[[j]][1] && death_stats[k] <= y_values[[j]][2])){\n",
        "        correlation_table[i,j] = correlation_table[i,j] + 1\n",
        "      }\n",
        "    }\n",
        "  }\n",
        "}\n",
        "\n",
        "rownames(correlation_table) <- x_centers\n",
        "colnames(correlation_table) <- y_centers\n",
        "correlation_table"
      ],
      "execution_count": 23,
      "outputs": [
        {
          "output_type": "display_data",
          "data": {
            "text/plain": [
              "     1104 1246 1386 1528 1668 1810 1950\n",
              "1055 0    0    0    0    0     0    0  \n",
              "1197 0    0    0    0    0     0    0  \n",
              "1339 0    0    0    0    0     0    0  \n",
              "1481 0    0    0    1    1     0    0  \n",
              "1623 0    0    0    0    2     0    0  \n",
              "1765 0    0    0    0    0    10    4  \n",
              "1907 0    0    0    0    0     0   92  "
            ],
            "text/latex": "A matrix: 7 × 7 of type dbl\n\\begin{tabular}{r|lllllll}\n  & 1104 & 1246 & 1386 & 1528 & 1668 & 1810 & 1950\\\\\n\\hline\n\t1055 & 0 & 0 & 0 & 0 & 0 &  0 &  0\\\\\n\t1197 & 0 & 0 & 0 & 0 & 0 &  0 &  0\\\\\n\t1339 & 0 & 0 & 0 & 0 & 0 &  0 &  0\\\\\n\t1481 & 0 & 0 & 0 & 1 & 1 &  0 &  0\\\\\n\t1623 & 0 & 0 & 0 & 0 & 2 &  0 &  0\\\\\n\t1765 & 0 & 0 & 0 & 0 & 0 & 10 &  4\\\\\n\t1907 & 0 & 0 & 0 & 0 & 0 &  0 & 92\\\\\n\\end{tabular}\n",
            "text/markdown": "\nA matrix: 7 × 7 of type dbl\n\n| <!--/--> | 1104 | 1246 | 1386 | 1528 | 1668 | 1810 | 1950 |\n|---|---|---|---|---|---|---|---|\n| 1055 | 0 | 0 | 0 | 0 | 0 |  0 |  0 |\n| 1197 | 0 | 0 | 0 | 0 | 0 |  0 |  0 |\n| 1339 | 0 | 0 | 0 | 0 | 0 |  0 |  0 |\n| 1481 | 0 | 0 | 0 | 1 | 1 |  0 |  0 |\n| 1623 | 0 | 0 | 0 | 0 | 2 |  0 |  0 |\n| 1765 | 0 | 0 | 0 | 0 | 0 | 10 |  4 |\n| 1907 | 0 | 0 | 0 | 0 | 0 |  0 | 92 |\n\n",
            "text/html": [
              "<table class=\"dataframe\">\n",
              "<caption>A matrix: 7 × 7 of type dbl</caption>\n",
              "<thead>\n",
              "\t<tr><th></th><th scope=col>1104</th><th scope=col>1246</th><th scope=col>1386</th><th scope=col>1528</th><th scope=col>1668</th><th scope=col>1810</th><th scope=col>1950</th></tr>\n",
              "</thead>\n",
              "<tbody>\n",
              "\t<tr><th scope=row>1055</th><td>0</td><td>0</td><td>0</td><td>0</td><td>0</td><td> 0</td><td> 0</td></tr>\n",
              "\t<tr><th scope=row>1197</th><td>0</td><td>0</td><td>0</td><td>0</td><td>0</td><td> 0</td><td> 0</td></tr>\n",
              "\t<tr><th scope=row>1339</th><td>0</td><td>0</td><td>0</td><td>0</td><td>0</td><td> 0</td><td> 0</td></tr>\n",
              "\t<tr><th scope=row>1481</th><td>0</td><td>0</td><td>0</td><td>1</td><td>1</td><td> 0</td><td> 0</td></tr>\n",
              "\t<tr><th scope=row>1623</th><td>0</td><td>0</td><td>0</td><td>0</td><td>2</td><td> 0</td><td> 0</td></tr>\n",
              "\t<tr><th scope=row>1765</th><td>0</td><td>0</td><td>0</td><td>0</td><td>0</td><td>10</td><td> 4</td></tr>\n",
              "\t<tr><th scope=row>1907</th><td>0</td><td>0</td><td>0</td><td>0</td><td>0</td><td> 0</td><td>92</td></tr>\n",
              "</tbody>\n",
              "</table>\n"
            ]
          },
          "metadata": {}
        }
      ]
    },
    {
      "cell_type": "markdown",
      "metadata": {
        "id": "FQwL3LqdgJME"
      },
      "source": [
        "Найдём групповые средние"
      ]
    },
    {
      "cell_type": "code",
      "metadata": {
        "id": "3Q1Fzj_rWF7s",
        "colab": {
          "base_uri": "https://localhost:8080/",
          "height": 52
        },
        "outputId": "fc669b1f-f8bf-43a7-e10d-0d728c1794b8"
      },
      "source": [
        "x_group_means <- 0\n",
        "y_group_means <- 0\n",
        "for (i in 1:number_of_intervals){\n",
        "  if (sum(correlation_table[i,]) == 0){\n",
        "     x_group_means[i] = 0\n",
        "  }\n",
        "  else{\n",
        "    x_group_means[i] <- sum(x_centers * correlation_table[i,])/sum(correlation_table[i,])\n",
        "  }\n",
        "\n",
        "   if (sum(correlation_table[, i]) == 0){\n",
        "     y_group_means[i] = 0\n",
        "  }\n",
        "  else{\n",
        "     y_group_means[i] <- sum(y_centers * correlation_table[, i])/sum(correlation_table[, i])\n",
        "  }\n",
        "  \n",
        " \n",
        "} \n",
        "x_group_means\n",
        "y_group_means"
      ],
      "execution_count": 24,
      "outputs": [
        {
          "output_type": "display_data",
          "data": {
            "text/plain": [
              "[1]    0.000    0.000    0.000 1552.000 1623.000 1805.571 1907.000"
            ],
            "text/latex": "\\begin{enumerate*}\n\\item 0\n\\item 0\n\\item 0\n\\item 1552\n\\item 1623\n\\item 1805.57142857143\n\\item 1907\n\\end{enumerate*}\n",
            "text/markdown": "1. 0\n2. 0\n3. 0\n4. 1552\n5. 1623\n6. 1805.57142857143\n7. 1907\n\n\n",
            "text/html": [
              "<style>\n",
              ".list-inline {list-style: none; margin:0; padding: 0}\n",
              ".list-inline>li {display: inline-block}\n",
              ".list-inline>li:not(:last-child)::after {content: \"\\00b7\"; padding: 0 .5ex}\n",
              "</style>\n",
              "<ol class=list-inline><li>0</li><li>0</li><li>0</li><li>1552</li><li>1623</li><li>1805.57142857143</li><li>1907</li></ol>\n"
            ]
          },
          "metadata": {}
        },
        {
          "output_type": "display_data",
          "data": {
            "text/plain": [
              "[1]    0.000    0.000    0.000 1528.000 1621.333 1810.000 1944.167"
            ],
            "text/latex": "\\begin{enumerate*}\n\\item 0\n\\item 0\n\\item 0\n\\item 1528\n\\item 1621.33333333333\n\\item 1810\n\\item 1944.16666666667\n\\end{enumerate*}\n",
            "text/markdown": "1. 0\n2. 0\n3. 0\n4. 1528\n5. 1621.33333333333\n6. 1810\n7. 1944.16666666667\n\n\n",
            "text/html": [
              "<style>\n",
              ".list-inline {list-style: none; margin:0; padding: 0}\n",
              ".list-inline>li {display: inline-block}\n",
              ".list-inline>li:not(:last-child)::after {content: \"\\00b7\"; padding: 0 .5ex}\n",
              "</style>\n",
              "<ol class=list-inline><li>0</li><li>0</li><li>0</li><li>1528</li><li>1621.33333333333</li><li>1810</li><li>1944.16666666667</li></ol>\n"
            ]
          },
          "metadata": {}
        }
      ]
    },
    {
      "cell_type": "markdown",
      "metadata": {
        "id": "50g2-f6NjCwe"
      },
      "source": [
        "Найдем межгрупповые дисперсии"
      ]
    },
    {
      "cell_type": "code",
      "metadata": {
        "id": "FX0Dk4iiWF0-",
        "colab": {
          "base_uri": "https://localhost:8080/",
          "height": 52
        },
        "outputId": "de897862-e792-4683-b9a5-ed74b7b9727f"
      },
      "source": [
        "intergroup_dispersion_x <- 0\n",
        "intergroup_dispersion_y <- 0\n",
        "for (i in 1:number_of_intervals){\n",
        "  intergroup_dispersion_x = intergroup_dispersion_x + (x_group_means[i] - x_mean) * sum(correlation_table[, i])\n",
        "  intergroup_dispersion_y = intergroup_dispersion_y + (x_group_means[i] - y_mean) * sum(correlation_table[i, ])\n",
        "}\n",
        "intergroup_dispersion_x = intergroup_dispersion_x / sample_cardinality\n",
        "intergroup_dispersion_y = intergroup_dispersion_y / sample_cardinality\n",
        "intergroup_dispersion_x\n",
        "intergroup_dispersion_y"
      ],
      "execution_count": 25,
      "outputs": [
        {
          "output_type": "display_data",
          "data": {
            "text/plain": [
              "[1] 18.02104"
            ],
            "text/latex": "18.0210442102334",
            "text/markdown": "18.0210442102334",
            "text/html": [
              "18.0210442102334"
            ]
          },
          "metadata": {}
        },
        {
          "output_type": "display_data",
          "data": {
            "text/plain": [
              "[1] -43.27928"
            ],
            "text/latex": "-43.2792792792794",
            "text/markdown": "-43.2792792792794",
            "text/html": [
              "-43.2792792792794"
            ]
          },
          "metadata": {}
        }
      ]
    },
    {
      "cell_type": "markdown",
      "metadata": {
        "id": "3fnAREFXrUAr"
      },
      "source": [
        "Найдём коэффициент линейной корреляции"
      ]
    },
    {
      "cell_type": "code",
      "metadata": {
        "id": "Zy687OvkrTUx",
        "colab": {
          "base_uri": "https://localhost:8080/",
          "height": 271
        },
        "outputId": "7007c76d-773a-47a5-b91c-f536ba371ec8"
      },
      "source": [
        "xym_multiplications <- matrix(0, nrow = number_of_intervals, ncol = number_of_intervals)\n",
        "for (i in 1:number_of_intervals){\n",
        "  for (j in 1:number_of_intervals){\n",
        "    xym_multiplications[i,j] = correlation_table[i, j] * x_centers[i] * y_centers[j]\n",
        "  }\n",
        "}\n",
        "xym_multiplications\n",
        "r_linear <- (intergroup_mean - x_mean * y_mean) / (x_std * y_std)\n",
        "r_linear"
      ],
      "execution_count": 26,
      "outputs": [
        {
          "output_type": "display_data",
          "data": {
            "text/plain": [
              "     [,1] [,2] [,3] [,4]    [,5]    [,6]     [,7]     \n",
              "[1,] 0    0    0          0       0        0         0\n",
              "[2,] 0    0    0          0       0        0         0\n",
              "[3,] 0    0    0          0       0        0         0\n",
              "[4,] 0    0    0    2262968 2470308        0         0\n",
              "[5,] 0    0    0          0 5414328        0         0\n",
              "[6,] 0    0    0          0       0 31946500  13767000\n",
              "[7,] 0    0    0          0       0        0 342115800"
            ],
            "text/latex": "A matrix: 7 × 7 of type dbl\n\\begin{tabular}{lllllll}\n\t 0 & 0 & 0 &       0 &       0 &        0 &         0\\\\\n\t 0 & 0 & 0 &       0 &       0 &        0 &         0\\\\\n\t 0 & 0 & 0 &       0 &       0 &        0 &         0\\\\\n\t 0 & 0 & 0 & 2262968 & 2470308 &        0 &         0\\\\\n\t 0 & 0 & 0 &       0 & 5414328 &        0 &         0\\\\\n\t 0 & 0 & 0 &       0 &       0 & 31946500 &  13767000\\\\\n\t 0 & 0 & 0 &       0 &       0 &        0 & 342115800\\\\\n\\end{tabular}\n",
            "text/markdown": "\nA matrix: 7 × 7 of type dbl\n\n| 0 | 0 | 0 |       0 |       0 |        0 |         0 |\n| 0 | 0 | 0 |       0 |       0 |        0 |         0 |\n| 0 | 0 | 0 |       0 |       0 |        0 |         0 |\n| 0 | 0 | 0 | 2262968 | 2470308 |        0 |         0 |\n| 0 | 0 | 0 |       0 | 5414328 |        0 |         0 |\n| 0 | 0 | 0 |       0 |       0 | 31946500 |  13767000 |\n| 0 | 0 | 0 |       0 |       0 |        0 | 342115800 |\n\n",
            "text/html": [
              "<table class=\"dataframe\">\n",
              "<caption>A matrix: 7 × 7 of type dbl</caption>\n",
              "<tbody>\n",
              "\t<tr><td>0</td><td>0</td><td>0</td><td>      0</td><td>      0</td><td>       0</td><td>        0</td></tr>\n",
              "\t<tr><td>0</td><td>0</td><td>0</td><td>      0</td><td>      0</td><td>       0</td><td>        0</td></tr>\n",
              "\t<tr><td>0</td><td>0</td><td>0</td><td>      0</td><td>      0</td><td>       0</td><td>        0</td></tr>\n",
              "\t<tr><td>0</td><td>0</td><td>0</td><td>2262968</td><td>2470308</td><td>       0</td><td>        0</td></tr>\n",
              "\t<tr><td>0</td><td>0</td><td>0</td><td>      0</td><td>5414328</td><td>       0</td><td>        0</td></tr>\n",
              "\t<tr><td>0</td><td>0</td><td>0</td><td>      0</td><td>      0</td><td>31946500</td><td> 13767000</td></tr>\n",
              "\t<tr><td>0</td><td>0</td><td>0</td><td>      0</td><td>      0</td><td>       0</td><td>342115800</td></tr>\n",
              "</tbody>\n",
              "</table>\n"
            ]
          },
          "metadata": {}
        },
        {
          "output_type": "display_data",
          "data": {
            "text/plain": [
              "[1] 7.868594"
            ],
            "text/latex": "7.86859377892188",
            "text/markdown": "7.86859377892188",
            "text/html": [
              "7.86859377892188"
            ]
          },
          "metadata": {}
        }
      ]
    },
    {
      "cell_type": "markdown",
      "metadata": {
        "id": "frJOiqBfnCwV"
      },
      "source": [
        "Рассчитаем $η_{yx}$ и $η_{xy}$. Убедимся, что неравенства $𝜂_{𝑥𝑦} \\geqslant |𝑟_{𝑥𝑦}|$ и $𝜂_{𝑦𝑥} \\geqslant |𝑟_{𝑥𝑦}|$ выполняются.\n"
      ]
    },
    {
      "cell_type": "code",
      "metadata": {
        "id": "hdNsehO7WFnX",
        "colab": {
          "base_uri": "https://localhost:8080/",
          "height": 121
        },
        "outputId": "f3494adf-8556-4416-a328-329efb5fd25e"
      },
      "source": [
        "eta_yx = sqrt(intergroup_dispersion_y) / y_std\n",
        "eta_xy = sqrt(intergroup_dispersion_x) / x_std\n",
        "eta_yx\n",
        "eta_xy\n",
        "print(eta_yx >= r_linear)\n",
        "print(eta_xy >= r_linear)"
      ],
      "execution_count": 27,
      "outputs": [
        {
          "output_type": "stream",
          "name": "stderr",
          "text": [
            "Warning message in sqrt(intergroup_dispersion_y):\n",
            "“NaNs produced”\n"
          ]
        },
        {
          "output_type": "display_data",
          "data": {
            "text/plain": [
              "[1] NaN"
            ],
            "text/latex": "NaN",
            "text/markdown": "NaN",
            "text/html": [
              "NaN"
            ]
          },
          "metadata": {}
        },
        {
          "output_type": "display_data",
          "data": {
            "text/plain": [
              "[1] 0.03822559"
            ],
            "text/latex": "0.0382255872034865",
            "text/markdown": "0.0382255872034865",
            "text/html": [
              "0.0382255872034865"
            ]
          },
          "metadata": {}
        },
        {
          "output_type": "stream",
          "name": "stdout",
          "text": [
            "[1] NA\n",
            "[1] FALSE\n"
          ]
        }
      ]
    },
    {
      "cell_type": "markdown",
      "metadata": {
        "id": "T1GfYRxn0M4e"
      },
      "source": [
        "###4. Построим корреляционную кривую параболического вида $𝑦 = 𝑎𝑥^2 + 𝑏𝑥 + c$."
      ]
    },
    {
      "cell_type": "markdown",
      "metadata": {
        "id": "kAmvGkLxeQL0"
      },
      "source": [
        "Представим следующую систему уравнений в матричном виде:\n",
        "\n",
        "$a \\sum x_i^4 + b \\sum x_i^3 + c \\sum x_i^2 = \\sum y_i x_i^2$\n",
        "<br>\n",
        "$a \\sum x_i^3 + b \\sum x_i^2 + c \\sum x_i = \\sum y_i x_i$\n",
        "<br>\n",
        "$a \\sum x_i^2 + b \\sum x_i + c n = \\sum y_i$"
      ]
    },
    {
      "cell_type": "code",
      "metadata": {
        "id": "gmRhXuDm0q0l",
        "colab": {
          "base_uri": "https://localhost:8080/",
          "height": 148
        },
        "outputId": "c8fa25a2-2ccd-48e7-c020-9cbcf08a3442"
      },
      "source": [
        "mat_a1 <- matrix(0, nrow = 3, ncol = 3)\n",
        "mat_a1[1, 1] = sum(X^4)\n",
        "mat_a1[1, 2] = sum(X^3)\n",
        "mat_a1[1, 3] = sum(X^2)\n",
        "mat_a1[2, 1] = mat_a1[1, 2]\n",
        "mat_a1[2, 2] = mat_a1[1, 3]\n",
        "mat_a1[2, 3] = sum(X)\n",
        "mat_a1[3, 1] = mat_a1[1, 3]\n",
        "mat_a1[3, 2] = mat_a1[2, 3]\n",
        "mat_a1[3, 3] = sample_cardinality\n",
        "\n",
        "mat_b1 <- matrix(c( sum(Y * X^2), sum(Y * X), sum(Y)), nrow=3)\n",
        "\n",
        "parabolic_factors <- solve(mat_a1, mat_b1) \n",
        "parabolic_factors"
      ],
      "execution_count": 28,
      "outputs": [
        {
          "output_type": "error",
          "ename": "ERROR",
          "evalue": "ignored",
          "traceback": [
            "Error in solve.default(mat_a1, mat_b1): system is computationally singular: reciprocal condition number = 2.14559e-17\nTraceback:\n",
            "1. solve(mat_a1, mat_b1)",
            "2. solve.default(mat_a1, mat_b1)"
          ]
        }
      ]
    },
    {
      "cell_type": "markdown",
      "metadata": {
        "id": "BYzAeoM26qoP"
      },
      "source": [
        "Построим график получившейся функции"
      ]
    },
    {
      "cell_type": "code",
      "metadata": {
        "id": "cWVPENMP6vjz",
        "colab": {
          "base_uri": "https://localhost:8080/",
          "height": 672
        },
        "outputId": "41de457d-760b-4687-9a59-ea18cd1ac390"
      },
      "source": [
        "plot(x_plot_values, y_plot_values, xlab = \"birth\", ylab= \"death\")\n",
        "lines(sort(x_plot_values), parabolic_factors[1,1] * sort(x_plot_values)^2 + parabolic_factors[2,1] * sort(x_plot_values) + parabolic_factors[3,1], col=\"red\")"
      ],
      "execution_count": 29,
      "outputs": [
        {
          "output_type": "error",
          "ename": "ERROR",
          "evalue": "ignored",
          "traceback": [
            "Error in xy.coords(x, y): object 'parabolic_factors' not found\nTraceback:\n",
            "1. lines(sort(x_plot_values), parabolic_factors[1, 1] * sort(x_plot_values)^2 + \n .     parabolic_factors[2, 1] * sort(x_plot_values) + parabolic_factors[3, \n .     1], col = \"red\")",
            "2. lines.default(sort(x_plot_values), parabolic_factors[1, 1] * \n .     sort(x_plot_values)^2 + parabolic_factors[2, 1] * sort(x_plot_values) + \n .     parabolic_factors[3, 1], col = \"red\")",
            "3. plot.xy(xy.coords(x, y), type = type, ...)",
            "4. xy.coords(x, y)"
          ]
        },
        {
          "output_type": "display_data",
          "data": {
            "image/png": "[encoded data removed]",
            "text/plain": [
              "plot without title"
            ]
          },
          "metadata": {
            "image/png": {
              "width": 420,
              "height": 420
            }
          }
        }
      ]
    },
    {
      "cell_type": "markdown",
      "metadata": {
        "id": "wS4I5U5CJibX"
      },
      "source": [
        "###6."
      ]
    },
    {
      "cell_type": "markdown",
      "metadata": {
        "id": "1asCWpesKctN"
      },
      "source": [
        "Вычислим следующие показатели качества регрессии для каждой\n",
        "кривой:\n",
        "* теоретический коэффициент детерминации $R^2$;\n",
        "* средняя квадратическая ошибка $𝑆_𝜀$;\n",
        "* средняя ошибка аппроксимации (приближения) $A$;"
      ]
    },
    {
      "cell_type": "code",
      "metadata": {
        "id": "otdp5RUCKp-A"
      },
      "source": [
        "R_1 <- r_linear ^ 2\n",
        "R_2 <- intergroup_mean / y_dispersion"
      ],
      "execution_count": null,
      "outputs": []
    },
    {
      "cell_type": "markdown",
      "metadata": {
        "id": "b7M9QxVKceJI"
      },
      "source": [
        "## Выводы\n",
        "В ходе проделанной работы был изучен и применён метод наименьших квадратов, обоснованы статистические свойства оценок, получаемых с помощью МНК.\n",
        "Были построены прямые среднеквадратичной регрессии с использованием метода МНК. Найдены корреляционные отношения. \n",
        "Был проведён анлиз качества регрессии для каждой кривой через коэффициент детерминации, среднюю квадратическую ошибку, среднюю ошибку апроксимации."
      ]
    }
  ]
}